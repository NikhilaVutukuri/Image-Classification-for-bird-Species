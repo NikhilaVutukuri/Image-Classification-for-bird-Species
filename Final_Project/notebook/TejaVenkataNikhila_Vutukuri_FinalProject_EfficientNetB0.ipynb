{
  "cells": [
    {
      "cell_type": "code",
      "execution_count": 1,
      "metadata": {},
      "outputs": [
        {
          "name": "stdout",
          "output_type": "stream",
          "text": [
            "Collecting split-folders\n",
            "  Downloading split_folders-0.5.1-py3-none-any.whl (8.4 kB)\n",
            "Installing collected packages: split-folders\n",
            "Successfully installed split-folders-0.5.1\n",
            "Note: you may need to restart the kernel to use updated packages.\n"
          ]
        }
      ],
      "source": [
        "pip install split-folders"
      ]
    },
    {
      "cell_type": "code",
      "execution_count": 1,
      "metadata": {
        "colab": {
          "base_uri": "https://localhost:8080/"
        },
        "id": "75ajjck8-ZrL",
        "outputId": "8ac05210-c09f-4cbc-aa31-af2be04c6ff7"
      },
      "outputs": [
        {
          "name": "stdout",
          "output_type": "stream",
          "text": [
            "Mounted at /content/drive\n"
          ]
        }
      ],
      "source": [
        "import numpy as np\n",
        "import pandas as pd\n",
        "from keras.utils import to_categorical\n",
        "import splitfolders\n",
        "import tensorflow\n",
        "from tensorflow import keras\n",
        "from keras.preprocessing import image\n",
        "from keras.preprocessing.image import ImageDataGenerator\n",
        "from keras.applications import EfficientNetB0\n",
        "from keras.applications.efficientnet import preprocess_input\n",
        "from keras import models, layers\n",
        "from keras.callbacks import EarlyStopping\n",
        "from sklearn.metrics import accuracy_score, classification_report\n",
        "import matplotlib.pyplot as plt\n",
        "from google.colab import drive\n",
        "drive.mount('/content/drive',force_remount=True)"
      ]
    },
    {
      "cell_type": "code",
      "execution_count": null,
      "metadata": {},
      "outputs": [],
      "source": [
        "# Train, test, validation split\n",
        "splitfolders.ratio('/content/drive/My Drive/Colab Notebooks/Final_Project/data/images',output='/content/drive/My Drive/Colab Notebooks/Final_Project/data/output',seed=1337,ratio=(.715,.16,.125))"
      ]
    },
    {
      "cell_type": "code",
      "execution_count": 2,
      "metadata": {
        "id": "WI0DEbFg_0gR"
      },
      "outputs": [],
      "source": [
        "# Preprocessing and crop(data augmentation)\n",
        "\n",
        "def random_crop(image):\n",
        "  image = preprocess_input(image)\n",
        "  cropped_image = tensorflow.image.random_crop(image,size=[224,224,3])\n",
        "  return cropped_image"
      ]
    },
    {
      "cell_type": "code",
      "execution_count": 3,
      "metadata": {
        "id": "NeFCc_bXCFUL"
      },
      "outputs": [],
      "source": [
        "train_dir = '/content/drive/My Drive/Colab Notebooks/Final_Project/data/output/train'\n",
        "validation_dir = '/content/drive/My Drive/Colab Notebooks/Final_Project/data/output/val'\n",
        "test_dir = '/content/drive/My Drive/Colab Notebooks/Final_Project/data/output/test'"
      ]
    },
    {
      "cell_type": "code",
      "execution_count": 4,
      "metadata": {
        "colab": {
          "base_uri": "https://localhost:8080/"
        },
        "id": "tgKLZDSgCOBC",
        "outputId": "ed2bc181-d3f6-4549-a293-8e646eddd020"
      },
      "outputs": [
        {
          "name": "stdout",
          "output_type": "stream",
          "text": [
            "Found 827 images belonging to 20 classes.\n",
            "Found 178 images belonging to 20 classes.\n",
            "Found 171 images belonging to 20 classes.\n"
          ]
        }
      ],
      "source": [
        "# Data Augmentation(roate, translate, zoom, contrast, flip) on train data\n",
        "\n",
        "train_data = ImageDataGenerator(preprocessing_function = random_crop,\n",
        "                                rotation_range=40,\n",
        "                                width_shift_range=0.2,\n",
        "                                height_shift_range=0.2,\n",
        "                                zoom_range=0.2,\n",
        "                                brightness_range=(0.2, 0.8),\n",
        "                                horizontal_flip=True,\n",
        "                                fill_mode='nearest')\n",
        "valid_data = ImageDataGenerator(preprocessing_function = preprocess_input)\n",
        "test_data = ImageDataGenerator(preprocessing_function = preprocess_input)\n",
        "train = train_data.flow_from_directory(\n",
        "    train_dir,\n",
        "    target_size=(224,224),\n",
        "    batch_size=5,\n",
        "    class_mode = \"categorical\"\n",
        ")\n",
        "valid = valid_data.flow_from_directory(\n",
        "    validation_dir,\n",
        "    target_size=(224,224),\n",
        "    batch_size=5,\n",
        "    class_mode = \"categorical\"\n",
        ")\n",
        "test = test_data.flow_from_directory(\n",
        "    test_dir,\n",
        "    target_size = (224,224),\n",
        "    batch_size = 5,\n",
        "    class_mode = \"categorical\",\n",
        "    shuffle = False\n",
        ")"
      ]
    },
    {
      "cell_type": "code",
      "execution_count": 29,
      "metadata": {
        "id": "xLfRh-xdCTSv"
      },
      "outputs": [],
      "source": [
        "# Base EfficientNetB0 model removing top layer\n",
        "\n",
        "base_model = EfficientNetB0(weights='imagenet', include_top=False, input_shape=(224,224,3))\n",
        "base_model.trainable = False"
      ]
    },
    {
      "cell_type": "code",
      "execution_count": 39,
      "metadata": {
        "id": "rcMLOMkfCZuY"
      },
      "outputs": [],
      "source": [
        "#Adding Pooling, ReLU activation and softmax activation layers with dropout and batch normalization\n",
        "\n",
        "flatten_layer = layers.Flatten()\n",
        "dense_layer_1 = layers.Dense(1024, activation='relu')\n",
        "dropout = layers.Dropout(0.2)\n",
        "batchNormalization = layers.BatchNormalization()\n",
        "prediction_layer = layers.Dense(20, activation='softmax')\n",
        "\n",
        "\n",
        "model = models.Sequential([\n",
        "    base_model,\n",
        "    flatten_layer,\n",
        "    dense_layer_1,\n",
        "    dropout,\n",
        "    batchNormalization,\n",
        "    prediction_layer\n",
        "])"
      ]
    },
    {
      "cell_type": "code",
      "execution_count": 40,
      "metadata": {
        "id": "sMdOW4M8Cr2c"
      },
      "outputs": [],
      "source": [
        "#using adam optimizer and categorical cross entropy loss\n",
        "\n",
        "optimizer = keras.optimizers.Adam(learning_rate=0.001\n",
        "                                  )\n",
        "model.compile(\n",
        "    optimizer=optimizer,\n",
        "    loss='categorical_crossentropy',\n",
        "    metrics=['accuracy'],\n",
        ")\n",
        "\n",
        "# Early stopping based on validation loss and keeping best weights\n",
        "es = EarlyStopping(monitor= 'val_loss', mode='min', patience=20,  restore_best_weights=True)"
      ]
    },
    {
      "cell_type": "code",
      "execution_count": 41,
      "metadata": {
        "colab": {
          "base_uri": "https://localhost:8080/"
        },
        "id": "RTTRy8vyCvTT",
        "outputId": "ab672fd8-337f-4438-8c28-1bd65c8071cb"
      },
      "outputs": [
        {
          "name": "stdout",
          "output_type": "stream",
          "text": [
            "Epoch 1/50\n",
            "166/166 [==============================] - 24s 109ms/step - loss: 2.5735 - accuracy: 0.3664 - val_loss: 1.3487 - val_accuracy: 0.6573\n",
            "Epoch 2/50\n",
            "166/166 [==============================] - 17s 100ms/step - loss: 1.6391 - accuracy: 0.5151 - val_loss: 0.8842 - val_accuracy: 0.7022\n",
            "Epoch 3/50\n",
            "166/166 [==============================] - 17s 99ms/step - loss: 1.1012 - accuracy: 0.6663 - val_loss: 0.6456 - val_accuracy: 0.8202\n",
            "Epoch 4/50\n",
            "166/166 [==============================] - 17s 101ms/step - loss: 1.0875 - accuracy: 0.6626 - val_loss: 0.5329 - val_accuracy: 0.8315\n",
            "Epoch 5/50\n",
            "166/166 [==============================] - 17s 99ms/step - loss: 1.0505 - accuracy: 0.6638 - val_loss: 0.5182 - val_accuracy: 0.8258\n",
            "Epoch 6/50\n",
            "166/166 [==============================] - 16s 98ms/step - loss: 0.8901 - accuracy: 0.7255 - val_loss: 0.5827 - val_accuracy: 0.8371\n",
            "Epoch 7/50\n",
            "166/166 [==============================] - 16s 98ms/step - loss: 0.9189 - accuracy: 0.7291 - val_loss: 0.6287 - val_accuracy: 0.8034\n",
            "Epoch 8/50\n",
            "166/166 [==============================] - 16s 98ms/step - loss: 0.7725 - accuracy: 0.7364 - val_loss: 0.5417 - val_accuracy: 0.8315\n",
            "Epoch 9/50\n",
            "166/166 [==============================] - 16s 98ms/step - loss: 0.7783 - accuracy: 0.7497 - val_loss: 0.5729 - val_accuracy: 0.8371\n",
            "Epoch 10/50\n",
            "166/166 [==============================] - 17s 99ms/step - loss: 0.7370 - accuracy: 0.7727 - val_loss: 0.5278 - val_accuracy: 0.8652\n",
            "Epoch 11/50\n",
            "166/166 [==============================] - 16s 98ms/step - loss: 0.6561 - accuracy: 0.7944 - val_loss: 0.5593 - val_accuracy: 0.8315\n",
            "Epoch 12/50\n",
            "166/166 [==============================] - 17s 99ms/step - loss: 0.6565 - accuracy: 0.8005 - val_loss: 0.3982 - val_accuracy: 0.8652\n",
            "Epoch 13/50\n",
            "166/166 [==============================] - 16s 98ms/step - loss: 0.7282 - accuracy: 0.7787 - val_loss: 0.5321 - val_accuracy: 0.8708\n",
            "Epoch 14/50\n",
            "166/166 [==============================] - 16s 98ms/step - loss: 0.6756 - accuracy: 0.7944 - val_loss: 0.5058 - val_accuracy: 0.8820\n",
            "Epoch 15/50\n",
            "166/166 [==============================] - 16s 98ms/step - loss: 0.6715 - accuracy: 0.8065 - val_loss: 0.4059 - val_accuracy: 0.8820\n",
            "Epoch 16/50\n",
            "166/166 [==============================] - 17s 99ms/step - loss: 0.7028 - accuracy: 0.8029 - val_loss: 0.3705 - val_accuracy: 0.9101\n",
            "Epoch 17/50\n",
            "166/166 [==============================] - 16s 98ms/step - loss: 0.6135 - accuracy: 0.8053 - val_loss: 0.4842 - val_accuracy: 0.8933\n",
            "Epoch 18/50\n",
            "166/166 [==============================] - 16s 98ms/step - loss: 0.6293 - accuracy: 0.8210 - val_loss: 0.3723 - val_accuracy: 0.9101\n",
            "Epoch 19/50\n",
            "166/166 [==============================] - 16s 98ms/step - loss: 0.5649 - accuracy: 0.8271 - val_loss: 0.4378 - val_accuracy: 0.8820\n",
            "Epoch 20/50\n",
            "166/166 [==============================] - 16s 99ms/step - loss: 0.6024 - accuracy: 0.8138 - val_loss: 0.4426 - val_accuracy: 0.8876\n",
            "Epoch 21/50\n",
            "166/166 [==============================] - 16s 98ms/step - loss: 0.5245 - accuracy: 0.8343 - val_loss: 0.5354 - val_accuracy: 0.8596\n",
            "Epoch 22/50\n",
            "166/166 [==============================] - 16s 99ms/step - loss: 0.5368 - accuracy: 0.8126 - val_loss: 0.4016 - val_accuracy: 0.8989\n",
            "Epoch 23/50\n",
            "166/166 [==============================] - 16s 98ms/step - loss: 0.5365 - accuracy: 0.8380 - val_loss: 0.4404 - val_accuracy: 0.8427\n",
            "Epoch 24/50\n",
            "166/166 [==============================] - 16s 98ms/step - loss: 0.5725 - accuracy: 0.8283 - val_loss: 0.5128 - val_accuracy: 0.8652\n",
            "Epoch 25/50\n",
            "166/166 [==============================] - 16s 98ms/step - loss: 0.5715 - accuracy: 0.8222 - val_loss: 0.4900 - val_accuracy: 0.8764\n",
            "Epoch 26/50\n",
            "166/166 [==============================] - 16s 98ms/step - loss: 0.4175 - accuracy: 0.8513 - val_loss: 0.4507 - val_accuracy: 0.8820\n",
            "Epoch 27/50\n",
            "166/166 [==============================] - 16s 98ms/step - loss: 0.5487 - accuracy: 0.8210 - val_loss: 0.3837 - val_accuracy: 0.8708\n",
            "Epoch 28/50\n",
            "166/166 [==============================] - 16s 98ms/step - loss: 0.4757 - accuracy: 0.8501 - val_loss: 0.4323 - val_accuracy: 0.8989\n",
            "Epoch 29/50\n",
            "166/166 [==============================] - 16s 99ms/step - loss: 0.5247 - accuracy: 0.8513 - val_loss: 0.4970 - val_accuracy: 0.8764\n",
            "Epoch 30/50\n",
            "166/166 [==============================] - 16s 98ms/step - loss: 0.4971 - accuracy: 0.8452 - val_loss: 0.4800 - val_accuracy: 0.8933\n",
            "Epoch 31/50\n",
            "166/166 [==============================] - 17s 101ms/step - loss: 0.4258 - accuracy: 0.8646 - val_loss: 0.3319 - val_accuracy: 0.8764\n",
            "Epoch 32/50\n",
            "166/166 [==============================] - 17s 100ms/step - loss: 0.4547 - accuracy: 0.8537 - val_loss: 0.3899 - val_accuracy: 0.8820\n",
            "Epoch 33/50\n",
            "166/166 [==============================] - 17s 99ms/step - loss: 0.4293 - accuracy: 0.8682 - val_loss: 0.4133 - val_accuracy: 0.9045\n",
            "Epoch 34/50\n",
            "166/166 [==============================] - 17s 100ms/step - loss: 0.5033 - accuracy: 0.8549 - val_loss: 0.4447 - val_accuracy: 0.8876\n",
            "Epoch 35/50\n",
            "166/166 [==============================] - 17s 101ms/step - loss: 0.5142 - accuracy: 0.8368 - val_loss: 0.3913 - val_accuracy: 0.8876\n",
            "Epoch 36/50\n",
            "166/166 [==============================] - 17s 100ms/step - loss: 0.4658 - accuracy: 0.8573 - val_loss: 0.4271 - val_accuracy: 0.9045\n",
            "Epoch 37/50\n",
            "166/166 [==============================] - 17s 100ms/step - loss: 0.4964 - accuracy: 0.8549 - val_loss: 0.4384 - val_accuracy: 0.8820\n",
            "Epoch 38/50\n",
            "166/166 [==============================] - 17s 101ms/step - loss: 0.4815 - accuracy: 0.8573 - val_loss: 0.4576 - val_accuracy: 0.8989\n",
            "Epoch 39/50\n",
            "166/166 [==============================] - 17s 101ms/step - loss: 0.4395 - accuracy: 0.8609 - val_loss: 0.5393 - val_accuracy: 0.8652\n",
            "Epoch 40/50\n",
            "166/166 [==============================] - 17s 100ms/step - loss: 0.4628 - accuracy: 0.8549 - val_loss: 0.4733 - val_accuracy: 0.8539\n",
            "Epoch 41/50\n",
            "166/166 [==============================] - 17s 100ms/step - loss: 0.5396 - accuracy: 0.8356 - val_loss: 0.4448 - val_accuracy: 0.8427\n",
            "Epoch 42/50\n",
            "166/166 [==============================] - 17s 100ms/step - loss: 0.5235 - accuracy: 0.8622 - val_loss: 0.5001 - val_accuracy: 0.8764\n",
            "Epoch 43/50\n",
            "166/166 [==============================] - 16s 99ms/step - loss: 0.4135 - accuracy: 0.8634 - val_loss: 0.4177 - val_accuracy: 0.8933\n",
            "Epoch 44/50\n",
            "166/166 [==============================] - 17s 100ms/step - loss: 0.4068 - accuracy: 0.8694 - val_loss: 0.3643 - val_accuracy: 0.8708\n",
            "Epoch 45/50\n",
            "166/166 [==============================] - 17s 100ms/step - loss: 0.4471 - accuracy: 0.8791 - val_loss: 0.3752 - val_accuracy: 0.8876\n",
            "Epoch 46/50\n",
            "166/166 [==============================] - 17s 100ms/step - loss: 0.3541 - accuracy: 0.8888 - val_loss: 0.4023 - val_accuracy: 0.8933\n",
            "Epoch 47/50\n",
            "166/166 [==============================] - 17s 101ms/step - loss: 0.5212 - accuracy: 0.8440 - val_loss: 0.4429 - val_accuracy: 0.8876\n",
            "Epoch 48/50\n",
            "166/166 [==============================] - 16s 99ms/step - loss: 0.4094 - accuracy: 0.8755 - val_loss: 0.4795 - val_accuracy: 0.8820\n",
            "Epoch 49/50\n",
            "166/166 [==============================] - 17s 99ms/step - loss: 0.3778 - accuracy: 0.8803 - val_loss: 0.4741 - val_accuracy: 0.8764\n",
            "Epoch 50/50\n",
            "166/166 [==============================] - 16s 99ms/step - loss: 0.4026 - accuracy: 0.8767 - val_loss: 0.4699 - val_accuracy: 0.8989\n"
          ]
        }
      ],
      "source": [
        "history = model.fit(train, epochs=50, validation_data=valid, batch_size=5, callbacks=[es])"
      ]
    },
    {
      "cell_type": "code",
      "execution_count": 42,
      "metadata": {
        "colab": {
          "base_uri": "https://localhost:8080/",
          "height": 295
        },
        "id": "nA8o3UgACyWP",
        "outputId": "6c50f739-9a22-4f92-8e2f-642e22ad9b4f"
      },
      "outputs": [
        {
          "data": {
            "image/png": "[encoded data removed]",
            "text/plain": [
              "<Figure size 432x288 with 1 Axes>"
            ]
          },
          "metadata": {
            "needs_background": "light"
          },
          "output_type": "display_data"
        }
      ],
      "source": [
        "#Plotting train and validation errors vs epoch\n",
        "\n",
        "train_error = []\n",
        "for i in history.history['accuracy']:\n",
        "  train_error.append(1-i)\n",
        "val_error = []\n",
        "for i in history.history['val_accuracy']:\n",
        "  val_error.append(1-i)\n",
        "epochs = range(1,51)\n",
        "plt.plot(epochs, train_error, 'g', label='Training Error')\n",
        "plt.plot(epochs, val_error, 'b', label='validation Error')\n",
        "plt.title('Training and Validation Error')\n",
        "plt.xlabel('Epochs')\n",
        "plt.ylabel('Error')\n",
        "plt.legend()\n",
        "plt.show()"
      ]
    },
    {
      "cell_type": "code",
      "execution_count": 43,
      "metadata": {
        "colab": {
          "base_uri": "https://localhost:8080/"
        },
        "id": "Rc0B6-JMGlXg",
        "outputId": "e1dd8b07-e45b-40e2-db2e-0e55847142b3"
      },
      "outputs": [
        {
          "name": "stdout",
          "output_type": "stream",
          "text": [
            "35/35 [==============================] - 2s 27ms/step\n"
          ]
        }
      ],
      "source": [
        "#Prediction on test data\n",
        "prediction = model.predict(test)"
      ]
    },
    {
      "cell_type": "code",
      "execution_count": 44,
      "metadata": {
        "id": "6IrIhyn-NKTu"
      },
      "outputs": [],
      "source": [
        "predict_classes = np.argmax(prediction,axis=1)"
      ]
    },
    {
      "cell_type": "code",
      "execution_count": 45,
      "metadata": {
        "id": "FsNtyrqoNRM-"
      },
      "outputs": [],
      "source": [
        "actual_classes = test.classes"
      ]
    },
    {
      "cell_type": "code",
      "execution_count": 46,
      "metadata": {
        "colab": {
          "base_uri": "https://localhost:8080/"
        },
        "id": "tAqvyFaJNUmV",
        "outputId": "2dc50fd4-e878-4545-f44a-e473555d2500"
      },
      "outputs": [
        {
          "name": "stdout",
          "output_type": "stream",
          "text": [
            "0.8830409356725146\n"
          ]
        }
      ],
      "source": [
        "accuracy = accuracy_score(actual_classes,predict_classes)\n",
        "print(accuracy)"
      ]
    },
    {
      "cell_type": "code",
      "execution_count": 47,
      "metadata": {
        "colab": {
          "base_uri": "https://localhost:8080/"
        },
        "id": "nq54BLXENXQr",
        "outputId": "f9fa7a23-4cee-4b65-9f93-73eb5c00fc71"
      },
      "outputs": [
        {
          "name": "stdout",
          "output_type": "stream",
          "text": [
            "              precision    recall  f1-score   support\n",
            "\n",
            "           0       1.00      0.83      0.91         6\n",
            "           1       1.00      1.00      1.00         9\n",
            "           2       0.80      1.00      0.89         8\n",
            "           3       0.80      1.00      0.89         8\n",
            "           4       0.70      0.78      0.74         9\n",
            "           5       1.00      0.56      0.71         9\n",
            "           6       1.00      0.89      0.94         9\n",
            "           7       0.90      1.00      0.95         9\n",
            "           8       1.00      1.00      1.00         9\n",
            "           9       1.00      0.89      0.94         9\n",
            "          10       0.90      1.00      0.95         9\n",
            "          11       1.00      0.89      0.94         9\n",
            "          12       0.82      1.00      0.90         9\n",
            "          13       0.88      0.78      0.82         9\n",
            "          14       0.89      0.89      0.89         9\n",
            "          15       0.62      0.62      0.62         8\n",
            "          16       0.89      1.00      0.94         8\n",
            "          17       0.86      0.75      0.80         8\n",
            "          18       0.89      0.89      0.89         9\n",
            "          19       0.88      0.88      0.88         8\n",
            "\n",
            "    accuracy                           0.88       171\n",
            "   macro avg       0.89      0.88      0.88       171\n",
            "weighted avg       0.89      0.88      0.88       171\n",
            "\n"
          ]
        }
      ],
      "source": [
        "print(classification_report(actual_classes, predict_classes, labels=[0, 1, 2, 3, 4, 5, 6, 7, 8, 9, 10, 11, 12, 13, 14, 15, 16, 17, 18, 19]))"
      ]
    }
  ],
  "metadata": {
    "accelerator": "GPU",
    "colab": {
      "machine_shape": "hm",
      "provenance": []
    },
    "gpuClass": "premium",
    "kernelspec": {
      "display_name": "Python 3.9.7 ('base')",
      "language": "python",
      "name": "python3"
    },
    "language_info": {
      "codemirror_mode": {
        "name": "ipython",
        "version": 3
      },
      "file_extension": ".py",
      "mimetype": "text/x-python",
      "name": "python",
      "nbconvert_exporter": "python",
      "pygments_lexer": "ipython3",
      "version": "3.9.7"
    },
    "vscode": {
      "interpreter": {
        "hash": "64f327b653f9ae5ae6c8b513e16ab3344214b81be9e8d6519b5b28808b2ac2a7"
      }
    }
  },
  "nbformat": 4,
  "nbformat_minor": 0
}
