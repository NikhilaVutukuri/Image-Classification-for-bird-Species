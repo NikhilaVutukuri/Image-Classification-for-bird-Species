{
  "cells": [
    {
      "cell_type": "code",
      "execution_count": 1,
      "metadata": {
        "colab": {
          "base_uri": "https://localhost:8080/"
        },
        "id": "FxxoJH7eDiBw",
        "outputId": "7b37c617-53a9-4f8e-baf0-d7c8ec2f0cc4"
      },
      "outputs": [
        {
          "name": "stdout",
          "output_type": "stream",
          "text": [
            "Looking in indexes: https://pypi.org/simple, https://us-python.pkg.dev/colab-wheels/public/simple/\n",
            "Collecting split-folders\n",
            "  Downloading split_folders-0.5.1-py3-none-any.whl (8.4 kB)\n",
            "Installing collected packages: split-folders\n",
            "Successfully installed split-folders-0.5.1\n"
          ]
        }
      ],
      "source": [
        "pip install split-folders"
      ]
    },
    {
      "cell_type": "code",
      "execution_count": 2,
      "metadata": {
        "colab": {
          "base_uri": "https://localhost:8080/"
        },
        "id": "sXoL6dIQm-5B",
        "outputId": "d268cd2e-24c8-4a41-f48d-77c73dff89ef"
      },
      "outputs": [
        {
          "name": "stdout",
          "output_type": "stream",
          "text": [
            "Mounted at /content/drive\n"
          ]
        }
      ],
      "source": [
        "import numpy as np\n",
        "import pandas as pd\n",
        "from keras.utils import to_categorical\n",
        "import splitfolders\n",
        "import tensorflow\n",
        "from tensorflow import keras\n",
        "from keras.preprocessing import image\n",
        "from keras.preprocessing.image import ImageDataGenerator\n",
        "from keras.applications.vgg16 import VGG16, preprocess_input\n",
        "from keras import models, layers\n",
        "from keras.callbacks import EarlyStopping\n",
        "from sklearn.metrics import accuracy_score, classification_report\n",
        "import matplotlib.pyplot as plt\n",
        "from google.colab import drive\n",
        "drive.mount('/content/drive',force_remount=True)\n"
      ]
    },
    {
      "cell_type": "code",
      "execution_count": 3,
      "metadata": {
        "colab": {
          "base_uri": "https://localhost:8080/"
        },
        "id": "Srb3z_9IDvao",
        "outputId": "3da6ab50-aa0d-4722-c096-1a4593b6d887"
      },
      "outputs": [
        {
          "name": "stderr",
          "output_type": "stream",
          "text": [
            "Copying files: 1176 files [07:42,  2.54 files/s]\n"
          ]
        }
      ],
      "source": [
        "# Train, test, validation split\n",
        "splitfolders.ratio('/content/drive/My Drive/Colab Notebooks/Final_Project/data/images',output='/content/drive/My Drive/Colab Notebooks/Final_Project/data/output',seed=1337,ratio=(.715,.16,.125))"
      ]
    },
    {
      "cell_type": "code",
      "execution_count": 4,
      "metadata": {
        "id": "UjgQKuDns1b0"
      },
      "outputs": [],
      "source": [
        "# Preprocessing and crop(data augmentation)\n",
        "def random_crop(image):\n",
        "  image = preprocess_input(image)\n",
        "  cropped_image = tensorflow.image.random_crop(image,size=[224,224,3])\n",
        "  return cropped_image"
      ]
    },
    {
      "cell_type": "code",
      "execution_count": 5,
      "metadata": {
        "id": "2rhwwjk9m0Gn"
      },
      "outputs": [],
      "source": [
        "train_dir = '/content/drive/My Drive/Colab Notebooks/Final_Project/data/output/train'\n",
        "validation_dir = '/content/drive/My Drive/Colab Notebooks/Final_Project/data/output/val'\n",
        "test_dir = '/content/drive/My Drive/Colab Notebooks/Final_Project/data/output/test'"
      ]
    },
    {
      "cell_type": "code",
      "execution_count": 6,
      "metadata": {
        "colab": {
          "base_uri": "https://localhost:8080/"
        },
        "id": "J-RRPSZenWWE",
        "outputId": "f2a0831c-2ed9-48ec-f4c8-7f926f9a11da"
      },
      "outputs": [
        {
          "name": "stdout",
          "output_type": "stream",
          "text": [
            "Found 827 images belonging to 20 classes.\n",
            "Found 178 images belonging to 20 classes.\n",
            "Found 171 images belonging to 20 classes.\n"
          ]
        }
      ],
      "source": [
        "# Data Augmentation(roate, translate, zoom, contrast, flip) on train data\n",
        "\n",
        "train_data = ImageDataGenerator(preprocessing_function = random_crop,\n",
        "                                rotation_range=40,\n",
        "                                width_shift_range=0.2,\n",
        "                                height_shift_range=0.2,\n",
        "                                zoom_range=0.2,\n",
        "                                brightness_range=(0.2, 0.8),\n",
        "                                horizontal_flip=True,\n",
        "                                fill_mode='nearest')\n",
        "valid_data = ImageDataGenerator(preprocessing_function = preprocess_input)\n",
        "test_data = ImageDataGenerator(preprocessing_function = preprocess_input)\n",
        "train = train_data.flow_from_directory(\n",
        "    train_dir,\n",
        "    target_size=(224,224),\n",
        "    batch_size=5,\n",
        "    class_mode = \"categorical\"\n",
        ")\n",
        "valid = valid_data.flow_from_directory(\n",
        "    validation_dir,\n",
        "    target_size=(224,224),\n",
        "    batch_size=5,\n",
        "    class_mode = \"categorical\"\n",
        ")\n",
        "test = test_data.flow_from_directory(\n",
        "    test_dir,\n",
        "    target_size = (224,224),\n",
        "    batch_size = 5,\n",
        "    class_mode = \"categorical\",\n",
        "    shuffle = False\n",
        ")"
      ]
    },
    {
      "cell_type": "code",
      "execution_count": 21,
      "metadata": {
        "id": "wybPZ-cPpPE2"
      },
      "outputs": [],
      "source": [
        "# Base VGG16 model removing top layer\n",
        "base_model = VGG16(weights='imagenet', include_top=False, input_shape=(224,224,3))\n",
        "base_model.trainable = False"
      ]
    },
    {
      "cell_type": "code",
      "execution_count": 22,
      "metadata": {
        "id": "cKJLSJv7xTgV"
      },
      "outputs": [],
      "source": [
        "#Adding Pooling, ReLU activation and softmax activation layers with dropout and batch normalization\n",
        "\n",
        "flatten_layer = layers.Flatten()\n",
        "dense_layer_1 = layers.Dense(1024, activation='relu')\n",
        "dropout = layers.Dropout(0.2)\n",
        "batchNormalization = layers.BatchNormalization()\n",
        "prediction_layer = layers.Dense(20, activation='softmax')\n",
        "\n",
        "\n",
        "model = models.Sequential([\n",
        "    base_model,\n",
        "    flatten_layer,\n",
        "    dense_layer_1,\n",
        "    dropout,\n",
        "    batchNormalization,\n",
        "    prediction_layer\n",
        "])"
      ]
    },
    {
      "cell_type": "code",
      "execution_count": 23,
      "metadata": {
        "id": "4UftNX_1x6Qh"
      },
      "outputs": [],
      "source": [
        "#using adam optimizer and categorical cross entropy loss\n",
        "model.compile(\n",
        "    optimizer='adam',\n",
        "    loss='categorical_crossentropy',\n",
        "    metrics=['accuracy'],\n",
        ")\n",
        "\n",
        "# Early stopping based on validation loss and keeping best weights\n",
        "es = EarlyStopping(monitor= 'val_loss', mode='min', patience=20,  restore_best_weights=True)\n"
      ]
    },
    {
      "cell_type": "code",
      "execution_count": 24,
      "metadata": {
        "colab": {
          "base_uri": "https://localhost:8080/"
        },
        "id": "3-DINQ_TyQSf",
        "outputId": "1e5a7ad1-723a-4283-bcb6-ada73057648e"
      },
      "outputs": [
        {
          "name": "stdout",
          "output_type": "stream",
          "text": [
            "Epoch 1/50\n",
            "166/166 [==============================] - 18s 103ms/step - loss: 2.5156 - accuracy: 0.3555 - val_loss: 1.4703 - val_accuracy: 0.6124\n",
            "Epoch 2/50\n",
            "166/166 [==============================] - 17s 101ms/step - loss: 1.4570 - accuracy: 0.5586 - val_loss: 1.1845 - val_accuracy: 0.6854\n",
            "Epoch 3/50\n",
            "166/166 [==============================] - 17s 101ms/step - loss: 1.1583 - accuracy: 0.6215 - val_loss: 0.8084 - val_accuracy: 0.7753\n",
            "Epoch 4/50\n",
            "166/166 [==============================] - 17s 100ms/step - loss: 1.0576 - accuracy: 0.6832 - val_loss: 0.8085 - val_accuracy: 0.7809\n",
            "Epoch 5/50\n",
            "166/166 [==============================] - 17s 100ms/step - loss: 0.9731 - accuracy: 0.7183 - val_loss: 0.9143 - val_accuracy: 0.7416\n",
            "Epoch 6/50\n",
            "166/166 [==============================] - 17s 101ms/step - loss: 0.8881 - accuracy: 0.7195 - val_loss: 0.7354 - val_accuracy: 0.7978\n",
            "Epoch 7/50\n",
            "166/166 [==============================] - 17s 101ms/step - loss: 0.8949 - accuracy: 0.7207 - val_loss: 0.6157 - val_accuracy: 0.7978\n",
            "Epoch 8/50\n",
            "166/166 [==============================] - 17s 100ms/step - loss: 0.7824 - accuracy: 0.7521 - val_loss: 0.6961 - val_accuracy: 0.8034\n",
            "Epoch 9/50\n",
            "166/166 [==============================] - 17s 100ms/step - loss: 0.7192 - accuracy: 0.7872 - val_loss: 1.0300 - val_accuracy: 0.7809\n",
            "Epoch 10/50\n",
            "166/166 [==============================] - 17s 101ms/step - loss: 0.7199 - accuracy: 0.7715 - val_loss: 0.8055 - val_accuracy: 0.8146\n",
            "Epoch 11/50\n",
            "166/166 [==============================] - 17s 100ms/step - loss: 0.7127 - accuracy: 0.7848 - val_loss: 0.8425 - val_accuracy: 0.8315\n",
            "Epoch 12/50\n",
            "166/166 [==============================] - 17s 100ms/step - loss: 0.6538 - accuracy: 0.7739 - val_loss: 0.8551 - val_accuracy: 0.8090\n",
            "Epoch 13/50\n",
            "166/166 [==============================] - 17s 100ms/step - loss: 0.6552 - accuracy: 0.7944 - val_loss: 0.9684 - val_accuracy: 0.8146\n",
            "Epoch 14/50\n",
            "166/166 [==============================] - 17s 100ms/step - loss: 0.6627 - accuracy: 0.7884 - val_loss: 0.9982 - val_accuracy: 0.8146\n",
            "Epoch 15/50\n",
            "166/166 [==============================] - 17s 100ms/step - loss: 0.6361 - accuracy: 0.7956 - val_loss: 0.8859 - val_accuracy: 0.8090\n",
            "Epoch 16/50\n",
            "166/166 [==============================] - 17s 100ms/step - loss: 0.6077 - accuracy: 0.8029 - val_loss: 0.9742 - val_accuracy: 0.8258\n",
            "Epoch 17/50\n",
            "166/166 [==============================] - 17s 100ms/step - loss: 0.5877 - accuracy: 0.8247 - val_loss: 1.0349 - val_accuracy: 0.8202\n",
            "Epoch 18/50\n",
            "166/166 [==============================] - 17s 100ms/step - loss: 0.5962 - accuracy: 0.8150 - val_loss: 1.1639 - val_accuracy: 0.7921\n",
            "Epoch 19/50\n",
            "166/166 [==============================] - 17s 101ms/step - loss: 0.5811 - accuracy: 0.8126 - val_loss: 1.0662 - val_accuracy: 0.8146\n",
            "Epoch 20/50\n",
            "166/166 [==============================] - 17s 102ms/step - loss: 0.5708 - accuracy: 0.8089 - val_loss: 0.9755 - val_accuracy: 0.8258\n",
            "Epoch 21/50\n",
            "166/166 [==============================] - 17s 101ms/step - loss: 0.5393 - accuracy: 0.8392 - val_loss: 0.8742 - val_accuracy: 0.8146\n",
            "Epoch 22/50\n",
            "166/166 [==============================] - 17s 101ms/step - loss: 0.5900 - accuracy: 0.8235 - val_loss: 0.8093 - val_accuracy: 0.8371\n",
            "Epoch 23/50\n",
            "166/166 [==============================] - 17s 101ms/step - loss: 0.4852 - accuracy: 0.8489 - val_loss: 0.7942 - val_accuracy: 0.8034\n",
            "Epoch 24/50\n",
            "166/166 [==============================] - 17s 101ms/step - loss: 0.4933 - accuracy: 0.8356 - val_loss: 0.7979 - val_accuracy: 0.8427\n",
            "Epoch 25/50\n",
            "166/166 [==============================] - 17s 100ms/step - loss: 0.5436 - accuracy: 0.8247 - val_loss: 0.6232 - val_accuracy: 0.8652\n",
            "Epoch 26/50\n",
            "166/166 [==============================] - 17s 101ms/step - loss: 0.5831 - accuracy: 0.8259 - val_loss: 1.0370 - val_accuracy: 0.8090\n",
            "Epoch 27/50\n",
            "166/166 [==============================] - 17s 101ms/step - loss: 0.5336 - accuracy: 0.8174 - val_loss: 1.2772 - val_accuracy: 0.7697\n"
          ]
        }
      ],
      "source": [
        "history = model.fit(train, epochs=50, validation_data=valid, batch_size=5, callbacks=[es])"
      ]
    },
    {
      "cell_type": "code",
      "execution_count": 25,
      "metadata": {
        "colab": {
          "base_uri": "https://localhost:8080/",
          "height": 295
        },
        "id": "saW5ozfU4VnR",
        "outputId": "03c3f6fe-737a-4b26-fe77-d850a816349d"
      },
      "outputs": [
        {
          "data": {
            "image/png": "[encoded data removed]",
            "text/plain": [
              "<Figure size 432x288 with 1 Axes>"
            ]
          },
          "metadata": {
            "needs_background": "light"
          },
          "output_type": "display_data"
        }
      ],
      "source": [
        "#Plotting train and validation errors vs epoch\n",
        "train_error = []\n",
        "for i in history.history['accuracy']:\n",
        "  train_error.append(1-i)\n",
        "val_error = []\n",
        "for i in history.history['val_accuracy']:\n",
        "  val_error.append(1-i)\n",
        "epochs = range(1,28)\n",
        "plt.plot(epochs, train_error, 'g', label='Training Error')\n",
        "plt.plot(epochs, val_error, 'b', label='validation Error')\n",
        "plt.title('Training and Validation Error')\n",
        "plt.xlabel('Epochs')\n",
        "plt.ylabel('Error')\n",
        "plt.legend()\n",
        "plt.show()"
      ]
    },
    {
      "cell_type": "code",
      "execution_count": 26,
      "metadata": {
        "colab": {
          "base_uri": "https://localhost:8080/"
        },
        "id": "jbZTFtJi0mLW",
        "outputId": "d641c7ee-1bd9-4d8a-fbe5-d11f439bd495"
      },
      "outputs": [
        {
          "name": "stdout",
          "output_type": "stream",
          "text": [
            "35/35 [==============================] - 1s 29ms/step\n"
          ]
        }
      ],
      "source": [
        "#Prediction on test data\n",
        "prediction = model.predict(test)"
      ]
    },
    {
      "cell_type": "code",
      "execution_count": 27,
      "metadata": {
        "id": "OlAkvUwAcIvU"
      },
      "outputs": [],
      "source": [
        "predict_classes = np.argmax(prediction,axis=1)"
      ]
    },
    {
      "cell_type": "code",
      "execution_count": 28,
      "metadata": {
        "id": "UV3lWLLkhEVL"
      },
      "outputs": [],
      "source": [
        "actual_classes = test.classes"
      ]
    },
    {
      "cell_type": "code",
      "execution_count": 29,
      "metadata": {
        "colab": {
          "base_uri": "https://localhost:8080/"
        },
        "id": "WAhfD7xxhQYj",
        "outputId": "6dfdd56e-930a-4c90-8949-9a40da7244be"
      },
      "outputs": [
        {
          "name": "stdout",
          "output_type": "stream",
          "text": [
            "0.8538011695906432\n"
          ]
        }
      ],
      "source": [
        "accuracy = accuracy_score(actual_classes,predict_classes)\n",
        "print(accuracy)"
      ]
    },
    {
      "cell_type": "code",
      "execution_count": 30,
      "metadata": {
        "colab": {
          "base_uri": "https://localhost:8080/"
        },
        "id": "GoLgOeBShhe2",
        "outputId": "a83cadff-32c1-47f6-be59-4eeb8c03201e"
      },
      "outputs": [
        {
          "name": "stdout",
          "output_type": "stream",
          "text": [
            "              precision    recall  f1-score   support\n",
            "\n",
            "           0       1.00      0.67      0.80         6\n",
            "           1       0.90      1.00      0.95         9\n",
            "           2       1.00      0.75      0.86         8\n",
            "           3       0.89      1.00      0.94         8\n",
            "           4       1.00      0.67      0.80         9\n",
            "           5       1.00      0.78      0.88         9\n",
            "           6       1.00      1.00      1.00         9\n",
            "           7       0.89      0.89      0.89         9\n",
            "           8       0.90      1.00      0.95         9\n",
            "           9       0.89      0.89      0.89         9\n",
            "          10       0.75      1.00      0.86         9\n",
            "          11       1.00      1.00      1.00         9\n",
            "          12       1.00      0.78      0.88         9\n",
            "          13       0.50      0.67      0.57         9\n",
            "          14       0.75      0.67      0.71         9\n",
            "          15       0.67      0.50      0.57         8\n",
            "          16       0.73      1.00      0.84         8\n",
            "          17       1.00      0.88      0.93         8\n",
            "          18       0.80      0.89      0.84         9\n",
            "          19       0.80      1.00      0.89         8\n",
            "\n",
            "    accuracy                           0.85       171\n",
            "   macro avg       0.87      0.85      0.85       171\n",
            "weighted avg       0.87      0.85      0.85       171\n",
            "\n"
          ]
        }
      ],
      "source": [
        "print(classification_report(actual_classes, predict_classes, labels=[0, 1, 2, 3, 4, 5, 6, 7, 8, 9, 10, 11, 12, 13, 14, 15, 16, 17, 18, 19]))\n",
        "    "
      ]
    }
  ],
  "metadata": {
    "accelerator": "GPU",
    "colab": {
      "machine_shape": "hm",
      "provenance": []
    },
    "gpuClass": "premium",
    "kernelspec": {
      "display_name": "Python 3.9.7 ('base')",
      "language": "python",
      "name": "python3"
    },
    "language_info": {
      "name": "python",
      "version": "3.9.7"
    },
    "vscode": {
      "interpreter": {
        "hash": "64f327b653f9ae5ae6c8b513e16ab3344214b81be9e8d6519b5b28808b2ac2a7"
      }
    }
  },
  "nbformat": 4,
  "nbformat_minor": 0
}
